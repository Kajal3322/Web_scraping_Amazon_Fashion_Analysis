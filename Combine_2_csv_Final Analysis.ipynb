{
 "cells": [
  {
   "cell_type": "code",
   "execution_count": 1,
   "metadata": {},
   "outputs": [],
   "source": [
    "\n",
    "# Project Name : Fashion Trend Analysis\n",
    "\n"
   ]
  },
  {
   "attachments": {},
   "cell_type": "markdown",
   "metadata": {},
   "source": [
    "Research Question: How accurately can we predict the price of apparel products based on brand and gender using machine learning algorithms?\n",
    "\n",
    "Main Objective: To develop a machine learning model that accurately predicts the price of apparel products based on brand and gender with a mean absolute error of less than 10% of the average price.\n",
    "Primary Objective: To investigate the gender-based distribution of apparel products in the dataset and determine whether there are significant differences in the number of products available for each gender, in order to gain insight into potential biases in the fashion industry.\n",
    "\n",
    "Primary Objective: To investigate the gender-based distribution of apparel products in the dataset and determine whether there are significant differences in the number of products available for each gender, in order to gain insight into potential biases in the fashion industry.\n",
    "\n"
   ]
  },
  {
   "cell_type": "code",
   "execution_count": 2,
   "metadata": {},
   "outputs": [
    {
     "data": {
      "text/html": [
       "        <script type=\"text/javascript\">\n",
       "        window.PlotlyConfig = {MathJaxConfig: 'local'};\n",
       "        if (window.MathJax && window.MathJax.Hub && window.MathJax.Hub.Config) {window.MathJax.Hub.Config({SVG: {font: \"STIX-Web\"}});}\n",
       "        if (typeof require !== 'undefined') {\n",
       "        require.undef(\"plotly\");\n",
       "        requirejs.config({\n",
       "            paths: {\n",
       "                'plotly': ['https://cdn.plot.ly/plotly-2.20.0.min']\n",
       "            }\n",
       "        });\n",
       "        require(['plotly'], function(Plotly) {\n",
       "            window._Plotly = Plotly;\n",
       "        });\n",
       "        }\n",
       "        </script>\n",
       "        "
      ]
     },
     "metadata": {},
     "output_type": "display_data"
    }
   ],
   "source": [
    "# Import Libraries\n",
    "\n",
    "import pandas as pd\n",
    "import numpy as np\n",
    "import plotly.express as px\n",
    "from plotly.subplots import make_subplots\n",
    "import plotly.offline as offline\n",
    "import plotly.graph_objs as go\n",
    "offline.init_notebook_mode(connected = True)"
   ]
  },
  {
   "cell_type": "code",
   "execution_count": 3,
   "metadata": {},
   "outputs": [
    {
     "name": "stdout",
     "output_type": "stream",
     "text": [
      "Index(['title', 'price', 'rating', 'reviews', 'availability', 'brand', 'color',\n",
      "       'rank', 'date', 'gender', 'Brand'],\n",
      "      dtype='object')\n",
      "Index(['ProductID', 'ProductName', 'ProductBrand', 'Gender', 'Price (INR)',\n",
      "       'NumImages', 'Description', 'PrimaryColor'],\n",
      "      dtype='object')\n"
     ]
    }
   ],
   "source": [
    " # read the dataset into a pandas dataframe\n",
    "\n",
    "\n",
    "\n",
    "amazon_df = pd.read_csv('fashion.csv')\n",
    "\n",
    "\n",
    "print(amazon_df.columns)\n",
    "\n",
    "\n",
    "myntra_df = pd.read_csv('Myntra.csv')\n",
    "\n",
    "print(myntra_df.columns)\n"
   ]
  },
  {
   "cell_type": "code",
   "execution_count": 4,
   "metadata": {},
   "outputs": [
    {
     "name": "stdout",
     "output_type": "stream",
     "text": [
      "                                                 title    price      color  \\\n",
      "0    REORIA Womens Sexy Square Neck Sleeveless Tank...  $25.99    01-black   \n",
      "1    MakeMeChic Women's 4pcs Casual Solid Sleevelss...  $47.99     A Multi   \n",
      "2    MakeMeChic Women's Summer Crop Top Solid Short...  $10.99       Khaki   \n",
      "3    MEROKEETY Womens V Neck Tank Tops Summer Sleev...  $24.99       White   \n",
      "4    Crop Top Athletic Shirts for Women Yoga Workou...  $22.99        Pink   \n",
      "..                                                 ...      ...        ...   \n",
      "349  Womens Cargo Capris Hiking Pants Lightweight Q...  $10.79     A1#blue   \n",
      "350  ODODOS Women's Crop 3-Pack Washed Seamless Rib...  $28.98       beige   \n",
      "351  Dokotoo Womens 2023 Summer Floral Print Off Th...  $36.99       White   \n",
      "352  Floerns Women's Boho Floral Print Off Shoulder...  $41.99   Red/White   \n",
      "353  WIHOLL Two Piece Outfits for Women Short Sleev...  $26.99     1-black   \n",
      "\n",
      "    gender        Brand  \n",
      "0    Women      REORIA   \n",
      "1    Women  MakeMeChic   \n",
      "2    Women   MakeMeChic  \n",
      "3    Women   MEROKEETY   \n",
      "4    Women       Amazon  \n",
      "..     ...          ...  \n",
      "349  Women       Amazon  \n",
      "350  Women      ODODOS   \n",
      "351  Women     Dokotoo   \n",
      "352  Women     Floerns   \n",
      "353  Women      WIHOLL   \n",
      "\n",
      "[354 rows x 5 columns]\n"
     ]
    }
   ],
   "source": [
    "myntra_df = myntra_df.dropna()\n",
    "\n",
    "# drop the 'availability','rating', 'reviews', 'rank', 'date','Unnamed: 9', 'brand' columns, since it is not needed\n",
    "\n",
    "amazon_df = amazon_df.drop([ 'availability','rating', 'reviews', 'rank', 'date',  'brand' ], axis=1)\n",
    "\n",
    "\n",
    "myntra_df = myntra_df.drop([ 'ProductID','NumImages','Description' ], axis=1)\n",
    "\n",
    "print(amazon_df)\n",
    "\n",
    "#print(myntra_df)"
   ]
  },
  {
   "cell_type": "code",
   "execution_count": 5,
   "metadata": {},
   "outputs": [],
   "source": [
    "# convert INR to USD\n",
    "\n",
    "myntra_df = pd.DataFrame(myntra_df)\n",
    "\n",
    "# define conversion rate\n",
    "\n",
    "conversion_rate = 0.012\n",
    "\n",
    "# convert INR to USD\n",
    "\n",
    "myntra_df['Price'] = myntra_df['Price (INR)'] * conversion_rate\n",
    "\n",
    "# round to two decimal places\n",
    "myntra_df['Price'] = myntra_df['Price'].round(2)\n",
    "\n",
    "\n",
    "# define a function to add dollar sign before price values\n",
    "def add_dollar_sign(price):\n",
    "    return '$ ' + str(price)\n",
    "\n",
    "# apply the function to the 'Price' column using the 'apply' method\n",
    "myntra_df['Price'] = myntra_df['Price'].apply(add_dollar_sign)\n",
    "\n",
    "\n",
    "# myntra_df"
   ]
  },
  {
   "cell_type": "code",
   "execution_count": 6,
   "metadata": {},
   "outputs": [
    {
     "name": "stdout",
     "output_type": "stream",
     "text": [
      "                                             ProductName ProductBrand  Gender  \\\n",
      "0      DKNY Unisex Black & Grey Printed Medium Trolle...         DKNY  Unisex   \n",
      "1      EthnoVogue Women Beige & Grey Made to Measure ...   EthnoVogue   Women   \n",
      "2      SPYKAR Women Pink Alexa Super Skinny Fit High-...       SPYKAR   Women   \n",
      "3      Raymond Men Blue Self-Design Single-Breasted B...      Raymond     Men   \n",
      "4      Parx Men Brown & Off-White Slim Fit Printed Ca...         Parx     Men   \n",
      "...                                                  ...          ...     ...   \n",
      "12485  Laceandme Black Lace Non-Wired Lightly Padded ...    Laceandme   Women   \n",
      "12486  Pepe Jeans Men Black Hammock Slim Fit Low-Rise...   Pepe Jeans     Men   \n",
      "12487                 Mochi Women Gold-Toned Solid Heels        Mochi   Women   \n",
      "12488  612 league Girls Navy Blue & White Printed Reg...   612 league   Girls   \n",
      "12490  Pepe Jeans Men Black & Grey Striped Polo Colla...   Pepe Jeans     Men   \n",
      "\n",
      "      PrimaryColor     Price  \n",
      "0            Black  $ 140.94  \n",
      "1            Beige   $ 69.72  \n",
      "2             Pink   $ 10.79  \n",
      "3             Blue   $ 67.19  \n",
      "4            White    $ 9.11  \n",
      "...            ...       ...  \n",
      "12485          Red    $ 6.83  \n",
      "12486        Black   $ 15.59  \n",
      "12487         Gold   $ 23.88  \n",
      "12488         Blue    $ 7.22  \n",
      "12490        Black    $ 9.59  \n",
      "\n",
      "[11597 rows x 5 columns]\n"
     ]
    }
   ],
   "source": [
    "myntra_df = myntra_df.drop([ 'Price (INR)' ], axis=1)\n",
    "\n",
    "print(myntra_df)"
   ]
  },
  {
   "cell_type": "code",
   "execution_count": 7,
   "metadata": {},
   "outputs": [
    {
     "name": "stdout",
     "output_type": "stream",
     "text": [
      "                                           ProductName    Price PrimaryColor  \\\n",
      "0    REORIA Womens Sexy Square Neck Sleeveless Tank...  $25.99      01-black   \n",
      "1    MakeMeChic Women's 4pcs Casual Solid Sleevelss...  $47.99       A Multi   \n",
      "2    MakeMeChic Women's Summer Crop Top Solid Short...  $10.99         Khaki   \n",
      "3    MEROKEETY Womens V Neck Tank Tops Summer Sleev...  $24.99         White   \n",
      "4    Crop Top Athletic Shirts for Women Yoga Workou...  $22.99          Pink   \n",
      "..                                                 ...      ...          ...   \n",
      "349  Womens Cargo Capris Hiking Pants Lightweight Q...  $10.79       A1#blue   \n",
      "350  ODODOS Women's Crop 3-Pack Washed Seamless Rib...  $28.98         beige   \n",
      "351  Dokotoo Womens 2023 Summer Floral Print Off Th...  $36.99         White   \n",
      "352  Floerns Women's Boho Floral Print Off Shoulder...  $41.99     Red/White   \n",
      "353  WIHOLL Two Piece Outfits for Women Short Sleev...  $26.99       1-black   \n",
      "\n",
      "    Gender ProductBrand  \n",
      "0    Women      REORIA   \n",
      "1    Women  MakeMeChic   \n",
      "2    Women   MakeMeChic  \n",
      "3    Women   MEROKEETY   \n",
      "4    Women       Amazon  \n",
      "..     ...          ...  \n",
      "349  Women       Amazon  \n",
      "350  Women      ODODOS   \n",
      "351  Women     Dokotoo   \n",
      "352  Women     Floerns   \n",
      "353  Women      WIHOLL   \n",
      "\n",
      "[354 rows x 5 columns]\n"
     ]
    }
   ],
   "source": [
    "# Rename the columns\n",
    "amazon_df = amazon_df.rename(columns={'title': 'ProductName',  'Brand': 'ProductBrand', 'gender': 'Gender', 'color': 'PrimaryColor' , 'price': 'Price'})\n",
    "\n",
    "print(amazon_df)\n"
   ]
  },
  {
   "cell_type": "code",
   "execution_count": 8,
   "metadata": {},
   "outputs": [
    {
     "name": "stdout",
     "output_type": "stream",
     "text": [
      "                                             ProductName ProductBrand  Gender  \\\n",
      "0      DKNY Unisex Black & Grey Printed Medium Trolle...         DKNY  Unisex   \n",
      "1      EthnoVogue Women Beige & Grey Made to Measure ...   EthnoVogue   Women   \n",
      "2      SPYKAR Women Pink Alexa Super Skinny Fit High-...       SPYKAR   Women   \n",
      "3      Raymond Men Blue Self-Design Single-Breasted B...      Raymond     Men   \n",
      "4      Parx Men Brown & Off-White Slim Fit Printed Ca...         Parx     Men   \n",
      "...                                                  ...          ...     ...   \n",
      "11946  Womens Cargo Capris Hiking Pants Lightweight Q...       Amazon   Women   \n",
      "11947  ODODOS Women's Crop 3-Pack Washed Seamless Rib...      ODODOS    Women   \n",
      "11948  Dokotoo Womens 2023 Summer Floral Print Off Th...     Dokotoo    Women   \n",
      "11949  Floerns Women's Boho Floral Print Off Shoulder...     Floerns    Women   \n",
      "11950  WIHOLL Two Piece Outfits for Women Short Sleev...      WIHOLL    Women   \n",
      "\n",
      "      PrimaryColor     Price  \n",
      "0            Black  $ 140.94  \n",
      "1            Beige   $ 69.72  \n",
      "2             Pink   $ 10.79  \n",
      "3             Blue   $ 67.19  \n",
      "4            White    $ 9.11  \n",
      "...            ...       ...  \n",
      "11946      A1#blue   $10.79   \n",
      "11947        beige   $28.98   \n",
      "11948        White   $36.99   \n",
      "11949    Red/White   $41.99   \n",
      "11950      1-black   $26.99   \n",
      "\n",
      "[11951 rows x 5 columns]\n"
     ]
    }
   ],
   "source": [
    "combined_df = pd.concat([myntra_df, amazon_df], ignore_index=True)\n",
    "\n",
    "combined_df.to_csv('AMAZONMYNTRAFASHION.csv', index=False)\n",
    "\n",
    "print(combined_df)"
   ]
  },
  {
   "cell_type": "code",
   "execution_count": 9,
   "metadata": {},
   "outputs": [
    {
     "name": "stdout",
     "output_type": "stream",
     "text": [
      "<class 'pandas.core.frame.DataFrame'>\n",
      "RangeIndex: 11951 entries, 0 to 11950\n",
      "Data columns (total 5 columns):\n",
      " #   Column        Non-Null Count  Dtype \n",
      "---  ------        --------------  ----- \n",
      " 0   ProductName   11951 non-null  object\n",
      " 1   ProductBrand  11951 non-null  object\n",
      " 2   Gender        11951 non-null  object\n",
      " 3   PrimaryColor  11951 non-null  object\n",
      " 4   Price         11951 non-null  object\n",
      "dtypes: object(5)\n",
      "memory usage: 467.0+ KB\n",
      "None\n"
     ]
    }
   ],
   "source": [
    "# display the data types and non-null counts for each attribute\n",
    "print(combined_df.info())\n",
    "\n"
   ]
  },
  {
   "cell_type": "code",
   "execution_count": 10,
   "metadata": {},
   "outputs": [
    {
     "data": {
      "application/vnd.plotly.v1+json": {
       "config": {
        "plotlyServerURL": "https://plot.ly"
       },
       "data": [
        {
         "marker": {
          "color": [
           "#4c78a8",
           "#72b7b2",
           "#6b92bc"
          ]
         },
         "orientation": "h",
         "text": [
          "45.98%",
          "45.15%",
          "8.87%"
         ],
         "textfont": {
          "color": "#fff",
          "size": 14
         },
         "textposition": "inside",
         "type": "bar",
         "x": [
          5474,
          5375,
          1056
         ],
         "y": [
          "Women",
          "Men",
          "Unisex"
         ]
        }
       ],
       "layout": {
        "font": {
         "color": "#8a8d93",
         "size": 17
        },
        "margin": {
         "b": 30,
         "l": 0,
         "r": 0,
         "t": 100
        },
        "paper_bgcolor": "#fff",
        "plot_bgcolor": "#fff",
        "template": {
         "data": {
          "bar": [
           {
            "error_x": {
             "color": "#2a3f5f"
            },
            "error_y": {
             "color": "#2a3f5f"
            },
            "marker": {
             "line": {
              "color": "#E5ECF6",
              "width": 0.5
             },
             "pattern": {
              "fillmode": "overlay",
              "size": 10,
              "solidity": 0.2
             }
            },
            "type": "bar"
           }
          ],
          "barpolar": [
           {
            "marker": {
             "line": {
              "color": "#E5ECF6",
              "width": 0.5
             },
             "pattern": {
              "fillmode": "overlay",
              "size": 10,
              "solidity": 0.2
             }
            },
            "type": "barpolar"
           }
          ],
          "carpet": [
           {
            "aaxis": {
             "endlinecolor": "#2a3f5f",
             "gridcolor": "white",
             "linecolor": "white",
             "minorgridcolor": "white",
             "startlinecolor": "#2a3f5f"
            },
            "baxis": {
             "endlinecolor": "#2a3f5f",
             "gridcolor": "white",
             "linecolor": "white",
             "minorgridcolor": "white",
             "startlinecolor": "#2a3f5f"
            },
            "type": "carpet"
           }
          ],
          "choropleth": [
           {
            "colorbar": {
             "outlinewidth": 0,
             "ticks": ""
            },
            "type": "choropleth"
           }
          ],
          "contour": [
           {
            "colorbar": {
             "outlinewidth": 0,
             "ticks": ""
            },
            "colorscale": [
             [
              0,
              "#0d0887"
             ],
             [
              0.1111111111111111,
              "#46039f"
             ],
             [
              0.2222222222222222,
              "#7201a8"
             ],
             [
              0.3333333333333333,
              "#9c179e"
             ],
             [
              0.4444444444444444,
              "#bd3786"
             ],
             [
              0.5555555555555556,
              "#d8576b"
             ],
             [
              0.6666666666666666,
              "#ed7953"
             ],
             [
              0.7777777777777778,
              "#fb9f3a"
             ],
             [
              0.8888888888888888,
              "#fdca26"
             ],
             [
              1,
              "#f0f921"
             ]
            ],
            "type": "contour"
           }
          ],
          "contourcarpet": [
           {
            "colorbar": {
             "outlinewidth": 0,
             "ticks": ""
            },
            "type": "contourcarpet"
           }
          ],
          "heatmap": [
           {
            "colorbar": {
             "outlinewidth": 0,
             "ticks": ""
            },
            "colorscale": [
             [
              0,
              "#0d0887"
             ],
             [
              0.1111111111111111,
              "#46039f"
             ],
             [
              0.2222222222222222,
              "#7201a8"
             ],
             [
              0.3333333333333333,
              "#9c179e"
             ],
             [
              0.4444444444444444,
              "#bd3786"
             ],
             [
              0.5555555555555556,
              "#d8576b"
             ],
             [
              0.6666666666666666,
              "#ed7953"
             ],
             [
              0.7777777777777778,
              "#fb9f3a"
             ],
             [
              0.8888888888888888,
              "#fdca26"
             ],
             [
              1,
              "#f0f921"
             ]
            ],
            "type": "heatmap"
           }
          ],
          "heatmapgl": [
           {
            "colorbar": {
             "outlinewidth": 0,
             "ticks": ""
            },
            "colorscale": [
             [
              0,
              "#0d0887"
             ],
             [
              0.1111111111111111,
              "#46039f"
             ],
             [
              0.2222222222222222,
              "#7201a8"
             ],
             [
              0.3333333333333333,
              "#9c179e"
             ],
             [
              0.4444444444444444,
              "#bd3786"
             ],
             [
              0.5555555555555556,
              "#d8576b"
             ],
             [
              0.6666666666666666,
              "#ed7953"
             ],
             [
              0.7777777777777778,
              "#fb9f3a"
             ],
             [
              0.8888888888888888,
              "#fdca26"
             ],
             [
              1,
              "#f0f921"
             ]
            ],
            "type": "heatmapgl"
           }
          ],
          "histogram": [
           {
            "marker": {
             "pattern": {
              "fillmode": "overlay",
              "size": 10,
              "solidity": 0.2
             }
            },
            "type": "histogram"
           }
          ],
          "histogram2d": [
           {
            "colorbar": {
             "outlinewidth": 0,
             "ticks": ""
            },
            "colorscale": [
             [
              0,
              "#0d0887"
             ],
             [
              0.1111111111111111,
              "#46039f"
             ],
             [
              0.2222222222222222,
              "#7201a8"
             ],
             [
              0.3333333333333333,
              "#9c179e"
             ],
             [
              0.4444444444444444,
              "#bd3786"
             ],
             [
              0.5555555555555556,
              "#d8576b"
             ],
             [
              0.6666666666666666,
              "#ed7953"
             ],
             [
              0.7777777777777778,
              "#fb9f3a"
             ],
             [
              0.8888888888888888,
              "#fdca26"
             ],
             [
              1,
              "#f0f921"
             ]
            ],
            "type": "histogram2d"
           }
          ],
          "histogram2dcontour": [
           {
            "colorbar": {
             "outlinewidth": 0,
             "ticks": ""
            },
            "colorscale": [
             [
              0,
              "#0d0887"
             ],
             [
              0.1111111111111111,
              "#46039f"
             ],
             [
              0.2222222222222222,
              "#7201a8"
             ],
             [
              0.3333333333333333,
              "#9c179e"
             ],
             [
              0.4444444444444444,
              "#bd3786"
             ],
             [
              0.5555555555555556,
              "#d8576b"
             ],
             [
              0.6666666666666666,
              "#ed7953"
             ],
             [
              0.7777777777777778,
              "#fb9f3a"
             ],
             [
              0.8888888888888888,
              "#fdca26"
             ],
             [
              1,
              "#f0f921"
             ]
            ],
            "type": "histogram2dcontour"
           }
          ],
          "mesh3d": [
           {
            "colorbar": {
             "outlinewidth": 0,
             "ticks": ""
            },
            "type": "mesh3d"
           }
          ],
          "parcoords": [
           {
            "line": {
             "colorbar": {
              "outlinewidth": 0,
              "ticks": ""
             }
            },
            "type": "parcoords"
           }
          ],
          "pie": [
           {
            "automargin": true,
            "type": "pie"
           }
          ],
          "scatter": [
           {
            "fillpattern": {
             "fillmode": "overlay",
             "size": 10,
             "solidity": 0.2
            },
            "type": "scatter"
           }
          ],
          "scatter3d": [
           {
            "line": {
             "colorbar": {
              "outlinewidth": 0,
              "ticks": ""
             }
            },
            "marker": {
             "colorbar": {
              "outlinewidth": 0,
              "ticks": ""
             }
            },
            "type": "scatter3d"
           }
          ],
          "scattercarpet": [
           {
            "marker": {
             "colorbar": {
              "outlinewidth": 0,
              "ticks": ""
             }
            },
            "type": "scattercarpet"
           }
          ],
          "scattergeo": [
           {
            "marker": {
             "colorbar": {
              "outlinewidth": 0,
              "ticks": ""
             }
            },
            "type": "scattergeo"
           }
          ],
          "scattergl": [
           {
            "marker": {
             "colorbar": {
              "outlinewidth": 0,
              "ticks": ""
             }
            },
            "type": "scattergl"
           }
          ],
          "scattermapbox": [
           {
            "marker": {
             "colorbar": {
              "outlinewidth": 0,
              "ticks": ""
             }
            },
            "type": "scattermapbox"
           }
          ],
          "scatterpolar": [
           {
            "marker": {
             "colorbar": {
              "outlinewidth": 0,
              "ticks": ""
             }
            },
            "type": "scatterpolar"
           }
          ],
          "scatterpolargl": [
           {
            "marker": {
             "colorbar": {
              "outlinewidth": 0,
              "ticks": ""
             }
            },
            "type": "scatterpolargl"
           }
          ],
          "scatterternary": [
           {
            "marker": {
             "colorbar": {
              "outlinewidth": 0,
              "ticks": ""
             }
            },
            "type": "scatterternary"
           }
          ],
          "surface": [
           {
            "colorbar": {
             "outlinewidth": 0,
             "ticks": ""
            },
            "colorscale": [
             [
              0,
              "#0d0887"
             ],
             [
              0.1111111111111111,
              "#46039f"
             ],
             [
              0.2222222222222222,
              "#7201a8"
             ],
             [
              0.3333333333333333,
              "#9c179e"
             ],
             [
              0.4444444444444444,
              "#bd3786"
             ],
             [
              0.5555555555555556,
              "#d8576b"
             ],
             [
              0.6666666666666666,
              "#ed7953"
             ],
             [
              0.7777777777777778,
              "#fb9f3a"
             ],
             [
              0.8888888888888888,
              "#fdca26"
             ],
             [
              1,
              "#f0f921"
             ]
            ],
            "type": "surface"
           }
          ],
          "table": [
           {
            "cells": {
             "fill": {
              "color": "#EBF0F8"
             },
             "line": {
              "color": "white"
             }
            },
            "header": {
             "fill": {
              "color": "#C8D4E3"
             },
             "line": {
              "color": "white"
             }
            },
            "type": "table"
           }
          ]
         },
         "layout": {
          "annotationdefaults": {
           "arrowcolor": "#2a3f5f",
           "arrowhead": 0,
           "arrowwidth": 1
          },
          "autotypenumbers": "strict",
          "coloraxis": {
           "colorbar": {
            "outlinewidth": 0,
            "ticks": ""
           }
          },
          "colorscale": {
           "diverging": [
            [
             0,
             "#8e0152"
            ],
            [
             0.1,
             "#c51b7d"
            ],
            [
             0.2,
             "#de77ae"
            ],
            [
             0.3,
             "#f1b6da"
            ],
            [
             0.4,
             "#fde0ef"
            ],
            [
             0.5,
             "#f7f7f7"
            ],
            [
             0.6,
             "#e6f5d0"
            ],
            [
             0.7,
             "#b8e186"
            ],
            [
             0.8,
             "#7fbc41"
            ],
            [
             0.9,
             "#4d9221"
            ],
            [
             1,
             "#276419"
            ]
           ],
           "sequential": [
            [
             0,
             "#0d0887"
            ],
            [
             0.1111111111111111,
             "#46039f"
            ],
            [
             0.2222222222222222,
             "#7201a8"
            ],
            [
             0.3333333333333333,
             "#9c179e"
            ],
            [
             0.4444444444444444,
             "#bd3786"
            ],
            [
             0.5555555555555556,
             "#d8576b"
            ],
            [
             0.6666666666666666,
             "#ed7953"
            ],
            [
             0.7777777777777778,
             "#fb9f3a"
            ],
            [
             0.8888888888888888,
             "#fdca26"
            ],
            [
             1,
             "#f0f921"
            ]
           ],
           "sequentialminus": [
            [
             0,
             "#0d0887"
            ],
            [
             0.1111111111111111,
             "#46039f"
            ],
            [
             0.2222222222222222,
             "#7201a8"
            ],
            [
             0.3333333333333333,
             "#9c179e"
            ],
            [
             0.4444444444444444,
             "#bd3786"
            ],
            [
             0.5555555555555556,
             "#d8576b"
            ],
            [
             0.6666666666666666,
             "#ed7953"
            ],
            [
             0.7777777777777778,
             "#fb9f3a"
            ],
            [
             0.8888888888888888,
             "#fdca26"
            ],
            [
             1,
             "#f0f921"
            ]
           ]
          },
          "colorway": [
           "#636efa",
           "#EF553B",
           "#00cc96",
           "#ab63fa",
           "#FFA15A",
           "#19d3f3",
           "#FF6692",
           "#B6E880",
           "#FF97FF",
           "#FECB52"
          ],
          "font": {
           "color": "#2a3f5f"
          },
          "geo": {
           "bgcolor": "white",
           "lakecolor": "white",
           "landcolor": "#E5ECF6",
           "showlakes": true,
           "showland": true,
           "subunitcolor": "white"
          },
          "hoverlabel": {
           "align": "left"
          },
          "hovermode": "closest",
          "mapbox": {
           "style": "light"
          },
          "paper_bgcolor": "white",
          "plot_bgcolor": "#E5ECF6",
          "polar": {
           "angularaxis": {
            "gridcolor": "white",
            "linecolor": "white",
            "ticks": ""
           },
           "bgcolor": "#E5ECF6",
           "radialaxis": {
            "gridcolor": "white",
            "linecolor": "white",
            "ticks": ""
           }
          },
          "scene": {
           "xaxis": {
            "backgroundcolor": "#E5ECF6",
            "gridcolor": "white",
            "gridwidth": 2,
            "linecolor": "white",
            "showbackground": true,
            "ticks": "",
            "zerolinecolor": "white"
           },
           "yaxis": {
            "backgroundcolor": "#E5ECF6",
            "gridcolor": "white",
            "gridwidth": 2,
            "linecolor": "white",
            "showbackground": true,
            "ticks": "",
            "zerolinecolor": "white"
           },
           "zaxis": {
            "backgroundcolor": "#E5ECF6",
            "gridcolor": "white",
            "gridwidth": 2,
            "linecolor": "white",
            "showbackground": true,
            "ticks": "",
            "zerolinecolor": "white"
           }
          },
          "shapedefaults": {
           "line": {
            "color": "#2a3f5f"
           }
          },
          "ternary": {
           "aaxis": {
            "gridcolor": "white",
            "linecolor": "white",
            "ticks": ""
           },
           "baxis": {
            "gridcolor": "white",
            "linecolor": "white",
            "ticks": ""
           },
           "bgcolor": "#E5ECF6",
           "caxis": {
            "gridcolor": "white",
            "linecolor": "white",
            "ticks": ""
           }
          },
          "title": {
           "x": 0.05
          },
          "xaxis": {
           "automargin": true,
           "gridcolor": "white",
           "linecolor": "white",
           "ticks": "",
           "title": {
            "standoff": 15
           },
           "zerolinecolor": "white",
           "zerolinewidth": 2
          },
          "yaxis": {
           "automargin": true,
           "gridcolor": "white",
           "linecolor": "white",
           "ticks": "",
           "title": {
            "standoff": 15
           },
           "zerolinecolor": "white",
           "zerolinewidth": 2
          }
         }
        },
        "title": {
         "font": {
          "color": "#555",
          "family": "Lato, sans-serif",
          "size": 45
         },
         "text": "Gender Overview"
        },
        "xaxis": {
         "title": {
          "text": "Count"
         }
        },
        "yaxis": {
         "title": {
          "text": "Gender"
         }
        }
       }
      },
      "text/html": [
       "<div>                            <div id=\"0a29f426-ee18-4edd-862d-aa8c79dc54f5\" class=\"plotly-graph-div\" style=\"height:525px; width:100%;\"></div>            <script type=\"text/javascript\">                require([\"plotly\"], function(Plotly) {                    window.PLOTLYENV=window.PLOTLYENV || {};                                    if (document.getElementById(\"0a29f426-ee18-4edd-862d-aa8c79dc54f5\")) {                    Plotly.newPlot(                        \"0a29f426-ee18-4edd-862d-aa8c79dc54f5\",                        [{\"marker\":{\"color\":[\"#4c78a8\",\"#72b7b2\",\"#6b92bc\"]},\"orientation\":\"h\",\"text\":[\"45.98%\",\"45.15%\",\"8.87%\"],\"textfont\":{\"color\":\"#fff\",\"size\":14},\"textposition\":\"inside\",\"x\":[5474,5375,1056],\"y\":[\"Women\",\"Men\",\"Unisex\"],\"type\":\"bar\"}],                        {\"template\":{\"data\":{\"histogram2dcontour\":[{\"type\":\"histogram2dcontour\",\"colorbar\":{\"outlinewidth\":0,\"ticks\":\"\"},\"colorscale\":[[0.0,\"#0d0887\"],[0.1111111111111111,\"#46039f\"],[0.2222222222222222,\"#7201a8\"],[0.3333333333333333,\"#9c179e\"],[0.4444444444444444,\"#bd3786\"],[0.5555555555555556,\"#d8576b\"],[0.6666666666666666,\"#ed7953\"],[0.7777777777777778,\"#fb9f3a\"],[0.8888888888888888,\"#fdca26\"],[1.0,\"#f0f921\"]]}],\"choropleth\":[{\"type\":\"choropleth\",\"colorbar\":{\"outlinewidth\":0,\"ticks\":\"\"}}],\"histogram2d\":[{\"type\":\"histogram2d\",\"colorbar\":{\"outlinewidth\":0,\"ticks\":\"\"},\"colorscale\":[[0.0,\"#0d0887\"],[0.1111111111111111,\"#46039f\"],[0.2222222222222222,\"#7201a8\"],[0.3333333333333333,\"#9c179e\"],[0.4444444444444444,\"#bd3786\"],[0.5555555555555556,\"#d8576b\"],[0.6666666666666666,\"#ed7953\"],[0.7777777777777778,\"#fb9f3a\"],[0.8888888888888888,\"#fdca26\"],[1.0,\"#f0f921\"]]}],\"heatmap\":[{\"type\":\"heatmap\",\"colorbar\":{\"outlinewidth\":0,\"ticks\":\"\"},\"colorscale\":[[0.0,\"#0d0887\"],[0.1111111111111111,\"#46039f\"],[0.2222222222222222,\"#7201a8\"],[0.3333333333333333,\"#9c179e\"],[0.4444444444444444,\"#bd3786\"],[0.5555555555555556,\"#d8576b\"],[0.6666666666666666,\"#ed7953\"],[0.7777777777777778,\"#fb9f3a\"],[0.8888888888888888,\"#fdca26\"],[1.0,\"#f0f921\"]]}],\"heatmapgl\":[{\"type\":\"heatmapgl\",\"colorbar\":{\"outlinewidth\":0,\"ticks\":\"\"},\"colorscale\":[[0.0,\"#0d0887\"],[0.1111111111111111,\"#46039f\"],[0.2222222222222222,\"#7201a8\"],[0.3333333333333333,\"#9c179e\"],[0.4444444444444444,\"#bd3786\"],[0.5555555555555556,\"#d8576b\"],[0.6666666666666666,\"#ed7953\"],[0.7777777777777778,\"#fb9f3a\"],[0.8888888888888888,\"#fdca26\"],[1.0,\"#f0f921\"]]}],\"contourcarpet\":[{\"type\":\"contourcarpet\",\"colorbar\":{\"outlinewidth\":0,\"ticks\":\"\"}}],\"contour\":[{\"type\":\"contour\",\"colorbar\":{\"outlinewidth\":0,\"ticks\":\"\"},\"colorscale\":[[0.0,\"#0d0887\"],[0.1111111111111111,\"#46039f\"],[0.2222222222222222,\"#7201a8\"],[0.3333333333333333,\"#9c179e\"],[0.4444444444444444,\"#bd3786\"],[0.5555555555555556,\"#d8576b\"],[0.6666666666666666,\"#ed7953\"],[0.7777777777777778,\"#fb9f3a\"],[0.8888888888888888,\"#fdca26\"],[1.0,\"#f0f921\"]]}],\"surface\":[{\"type\":\"surface\",\"colorbar\":{\"outlinewidth\":0,\"ticks\":\"\"},\"colorscale\":[[0.0,\"#0d0887\"],[0.1111111111111111,\"#46039f\"],[0.2222222222222222,\"#7201a8\"],[0.3333333333333333,\"#9c179e\"],[0.4444444444444444,\"#bd3786\"],[0.5555555555555556,\"#d8576b\"],[0.6666666666666666,\"#ed7953\"],[0.7777777777777778,\"#fb9f3a\"],[0.8888888888888888,\"#fdca26\"],[1.0,\"#f0f921\"]]}],\"mesh3d\":[{\"type\":\"mesh3d\",\"colorbar\":{\"outlinewidth\":0,\"ticks\":\"\"}}],\"scatter\":[{\"fillpattern\":{\"fillmode\":\"overlay\",\"size\":10,\"solidity\":0.2},\"type\":\"scatter\"}],\"parcoords\":[{\"type\":\"parcoords\",\"line\":{\"colorbar\":{\"outlinewidth\":0,\"ticks\":\"\"}}}],\"scatterpolargl\":[{\"type\":\"scatterpolargl\",\"marker\":{\"colorbar\":{\"outlinewidth\":0,\"ticks\":\"\"}}}],\"bar\":[{\"error_x\":{\"color\":\"#2a3f5f\"},\"error_y\":{\"color\":\"#2a3f5f\"},\"marker\":{\"line\":{\"color\":\"#E5ECF6\",\"width\":0.5},\"pattern\":{\"fillmode\":\"overlay\",\"size\":10,\"solidity\":0.2}},\"type\":\"bar\"}],\"scattergeo\":[{\"type\":\"scattergeo\",\"marker\":{\"colorbar\":{\"outlinewidth\":0,\"ticks\":\"\"}}}],\"scatterpolar\":[{\"type\":\"scatterpolar\",\"marker\":{\"colorbar\":{\"outlinewidth\":0,\"ticks\":\"\"}}}],\"histogram\":[{\"marker\":{\"pattern\":{\"fillmode\":\"overlay\",\"size\":10,\"solidity\":0.2}},\"type\":\"histogram\"}],\"scattergl\":[{\"type\":\"scattergl\",\"marker\":{\"colorbar\":{\"outlinewidth\":0,\"ticks\":\"\"}}}],\"scatter3d\":[{\"type\":\"scatter3d\",\"line\":{\"colorbar\":{\"outlinewidth\":0,\"ticks\":\"\"}},\"marker\":{\"colorbar\":{\"outlinewidth\":0,\"ticks\":\"\"}}}],\"scattermapbox\":[{\"type\":\"scattermapbox\",\"marker\":{\"colorbar\":{\"outlinewidth\":0,\"ticks\":\"\"}}}],\"scatterternary\":[{\"type\":\"scatterternary\",\"marker\":{\"colorbar\":{\"outlinewidth\":0,\"ticks\":\"\"}}}],\"scattercarpet\":[{\"type\":\"scattercarpet\",\"marker\":{\"colorbar\":{\"outlinewidth\":0,\"ticks\":\"\"}}}],\"carpet\":[{\"aaxis\":{\"endlinecolor\":\"#2a3f5f\",\"gridcolor\":\"white\",\"linecolor\":\"white\",\"minorgridcolor\":\"white\",\"startlinecolor\":\"#2a3f5f\"},\"baxis\":{\"endlinecolor\":\"#2a3f5f\",\"gridcolor\":\"white\",\"linecolor\":\"white\",\"minorgridcolor\":\"white\",\"startlinecolor\":\"#2a3f5f\"},\"type\":\"carpet\"}],\"table\":[{\"cells\":{\"fill\":{\"color\":\"#EBF0F8\"},\"line\":{\"color\":\"white\"}},\"header\":{\"fill\":{\"color\":\"#C8D4E3\"},\"line\":{\"color\":\"white\"}},\"type\":\"table\"}],\"barpolar\":[{\"marker\":{\"line\":{\"color\":\"#E5ECF6\",\"width\":0.5},\"pattern\":{\"fillmode\":\"overlay\",\"size\":10,\"solidity\":0.2}},\"type\":\"barpolar\"}],\"pie\":[{\"automargin\":true,\"type\":\"pie\"}]},\"layout\":{\"autotypenumbers\":\"strict\",\"colorway\":[\"#636efa\",\"#EF553B\",\"#00cc96\",\"#ab63fa\",\"#FFA15A\",\"#19d3f3\",\"#FF6692\",\"#B6E880\",\"#FF97FF\",\"#FECB52\"],\"font\":{\"color\":\"#2a3f5f\"},\"hovermode\":\"closest\",\"hoverlabel\":{\"align\":\"left\"},\"paper_bgcolor\":\"white\",\"plot_bgcolor\":\"#E5ECF6\",\"polar\":{\"bgcolor\":\"#E5ECF6\",\"angularaxis\":{\"gridcolor\":\"white\",\"linecolor\":\"white\",\"ticks\":\"\"},\"radialaxis\":{\"gridcolor\":\"white\",\"linecolor\":\"white\",\"ticks\":\"\"}},\"ternary\":{\"bgcolor\":\"#E5ECF6\",\"aaxis\":{\"gridcolor\":\"white\",\"linecolor\":\"white\",\"ticks\":\"\"},\"baxis\":{\"gridcolor\":\"white\",\"linecolor\":\"white\",\"ticks\":\"\"},\"caxis\":{\"gridcolor\":\"white\",\"linecolor\":\"white\",\"ticks\":\"\"}},\"coloraxis\":{\"colorbar\":{\"outlinewidth\":0,\"ticks\":\"\"}},\"colorscale\":{\"sequential\":[[0.0,\"#0d0887\"],[0.1111111111111111,\"#46039f\"],[0.2222222222222222,\"#7201a8\"],[0.3333333333333333,\"#9c179e\"],[0.4444444444444444,\"#bd3786\"],[0.5555555555555556,\"#d8576b\"],[0.6666666666666666,\"#ed7953\"],[0.7777777777777778,\"#fb9f3a\"],[0.8888888888888888,\"#fdca26\"],[1.0,\"#f0f921\"]],\"sequentialminus\":[[0.0,\"#0d0887\"],[0.1111111111111111,\"#46039f\"],[0.2222222222222222,\"#7201a8\"],[0.3333333333333333,\"#9c179e\"],[0.4444444444444444,\"#bd3786\"],[0.5555555555555556,\"#d8576b\"],[0.6666666666666666,\"#ed7953\"],[0.7777777777777778,\"#fb9f3a\"],[0.8888888888888888,\"#fdca26\"],[1.0,\"#f0f921\"]],\"diverging\":[[0,\"#8e0152\"],[0.1,\"#c51b7d\"],[0.2,\"#de77ae\"],[0.3,\"#f1b6da\"],[0.4,\"#fde0ef\"],[0.5,\"#f7f7f7\"],[0.6,\"#e6f5d0\"],[0.7,\"#b8e186\"],[0.8,\"#7fbc41\"],[0.9,\"#4d9221\"],[1,\"#276419\"]]},\"xaxis\":{\"gridcolor\":\"white\",\"linecolor\":\"white\",\"ticks\":\"\",\"title\":{\"standoff\":15},\"zerolinecolor\":\"white\",\"automargin\":true,\"zerolinewidth\":2},\"yaxis\":{\"gridcolor\":\"white\",\"linecolor\":\"white\",\"ticks\":\"\",\"title\":{\"standoff\":15},\"zerolinecolor\":\"white\",\"automargin\":true,\"zerolinewidth\":2},\"scene\":{\"xaxis\":{\"backgroundcolor\":\"#E5ECF6\",\"gridcolor\":\"white\",\"linecolor\":\"white\",\"showbackground\":true,\"ticks\":\"\",\"zerolinecolor\":\"white\",\"gridwidth\":2},\"yaxis\":{\"backgroundcolor\":\"#E5ECF6\",\"gridcolor\":\"white\",\"linecolor\":\"white\",\"showbackground\":true,\"ticks\":\"\",\"zerolinecolor\":\"white\",\"gridwidth\":2},\"zaxis\":{\"backgroundcolor\":\"#E5ECF6\",\"gridcolor\":\"white\",\"linecolor\":\"white\",\"showbackground\":true,\"ticks\":\"\",\"zerolinecolor\":\"white\",\"gridwidth\":2}},\"shapedefaults\":{\"line\":{\"color\":\"#2a3f5f\"}},\"annotationdefaults\":{\"arrowcolor\":\"#2a3f5f\",\"arrowhead\":0,\"arrowwidth\":1},\"geo\":{\"bgcolor\":\"white\",\"landcolor\":\"#E5ECF6\",\"subunitcolor\":\"white\",\"showland\":true,\"showlakes\":true,\"lakecolor\":\"white\"},\"title\":{\"x\":0.05},\"mapbox\":{\"style\":\"light\"}}},\"margin\":{\"t\":100,\"b\":30,\"l\":0,\"r\":0},\"title\":{\"text\":\"Gender Overview\",\"font\":{\"size\":45,\"color\":\"#555\",\"family\":\"Lato, sans-serif\"}},\"font\":{\"size\":17,\"color\":\"#8a8d93\"},\"yaxis\":{\"title\":{\"text\":\"Gender\"}},\"xaxis\":{\"title\":{\"text\":\"Count\"}},\"plot_bgcolor\":\"#fff\",\"paper_bgcolor\":\"#fff\"},                        {\"responsive\": true}                    ).then(function(){\n",
       "                            \n",
       "var gd = document.getElementById('0a29f426-ee18-4edd-862d-aa8c79dc54f5');\n",
       "var x = new MutationObserver(function (mutations, observer) {{\n",
       "        var display = window.getComputedStyle(gd).display;\n",
       "        if (!display || display === 'none') {{\n",
       "            console.log([gd, 'removed!']);\n",
       "            Plotly.purge(gd);\n",
       "            observer.disconnect();\n",
       "        }}\n",
       "}});\n",
       "\n",
       "// Listen for the removal of the full notebook cells\n",
       "var notebookContainer = gd.closest('#notebook-container');\n",
       "if (notebookContainer) {{\n",
       "    x.observe(notebookContainer, {childList: true});\n",
       "}}\n",
       "\n",
       "// Listen for the clearing of the current output cell\n",
       "var outputEl = gd.closest('.output');\n",
       "if (outputEl) {{\n",
       "    x.observe(outputEl, {childList: true});\n",
       "}}\n",
       "\n",
       "                        })                };                });            </script>        </div>"
      ]
     },
     "metadata": {},
     "output_type": "display_data"
    }
   ],
   "source": [
    "\n",
    "\n",
    "import plotly.graph_objs as go\n",
    "\n",
    "# Replace 'Boys' and 'Girls' with 'Men' and 'Women'\n",
    "combined_df = combined_df.replace({'Boys': 'Men', 'Girls': 'Women'})\n",
    "\n",
    "# Remove rows with 'Unisex Kids' gender\n",
    "combined_df = combined_df[combined_df['Gender'] != 'Unisex Kids']\n",
    "\n",
    "# Replace 'U.S. Polo Assn. Kids' with 'US Polo'\n",
    "combined_df = combined_df.replace({'U.S. Polo Assn. Kids': 'US Polo'})\n",
    "\n",
    "# Count the number of observations for each gender\n",
    "gender_counts = combined_df['Gender'].value_counts()\n",
    "\n",
    "# Calculate the percentage of each gender category\n",
    "gender_percentages = 100 * gender_counts / gender_counts.sum()\n",
    "\n",
    "# Create a horizontal bar chart with percentages\n",
    "fig = go.Figure(data=[go.Bar(\n",
    "    x=gender_counts.values,\n",
    "    y=gender_counts.index,\n",
    "    orientation='h',\n",
    "    marker=dict(color=['#4c78a8', '#72b7b2', '#6b92bc']),\n",
    "    text=[f'{p:.2f}%' for p in gender_percentages],\n",
    "    textposition='inside',\n",
    "    textfont=dict(color='#fff', size=14),\n",
    ")])\n",
    "\n",
    "# Update layout and formatting options\n",
    "fig.update_layout(\n",
    "    margin=dict(t=100, b=30, l=0, r=0),\n",
    "    title='Gender Overview',\n",
    "    title_font=dict(size=45, color='#555', family=\"Lato, sans-serif\"),\n",
    "    font=dict(size=17, color='#8a8d93'),\n",
    "    yaxis=dict(title='Gender'),\n",
    "    xaxis=dict(title='Count'),\n",
    "    plot_bgcolor='#fff',\n",
    "    paper_bgcolor='#fff',\n",
    ")\n",
    "\n",
    "# Show the plot\n",
    "fig.show()\n"
   ]
  },
  {
   "cell_type": "code",
   "execution_count": 11,
   "metadata": {},
   "outputs": [],
   "source": [
    "combined_df_pb_g = pd.crosstab(combined_df['ProductBrand'], combined_df['Gender'], margins=True).reset_index()\n",
    "combined_df_pb_m = combined_df_pb_g.sort_values(by='Men', ascending=False)[1:11]\n",
    "combined_df_pb_w = combined_df_pb_g.sort_values(by='Women', ascending=False)[1:11]\n",
    "combined_df_pb_u = combined_df_pb_g.sort_values(by='Unisex', ascending=False)[1:11]\n"
   ]
  },
  {
   "cell_type": "code",
   "execution_count": 12,
   "metadata": {},
   "outputs": [
    {
     "data": {
      "application/vnd.plotly.v1+json": {
       "config": {
        "plotlyServerURL": "https://plot.ly"
       },
       "data": [
        {
         "marker": {
          "color": [
           "#72b7b2",
           "#72b7b2",
           "#72b7b2",
           "#72b7b2",
           "#72b7b2",
           "#72b7b2",
           "#72b7b2",
           "#72b7b2",
           "#72b7b2",
           "#72b7b2"
          ],
          "size": 10
         },
         "mode": "markers",
         "name": "Women",
         "type": "scatter",
         "x": [
          304,
          260,
          118,
          118,
          108,
          104,
          96,
          77,
          66,
          63
         ],
         "xaxis": "x",
         "y": [
          "AURELIA",
          "W",
          "HERE&NOW",
          "Lavie",
          "Roadster",
          "US Polo",
          "DressBerry",
          "Vishudh",
          "Soie",
          "Carlton London"
         ],
         "yaxis": "y"
        },
        {
         "marker": {
          "color": [
           "#4c78a8",
           "#4c78a8",
           "#4c78a8",
           "#4c78a8",
           "#4c78a8",
           "#4c78a8",
           "#4c78a8",
           "#4c78a8",
           "#4c78a8",
           "#4c78a8"
          ],
          "size": 10
         },
         "mode": "markers",
         "name": "Men",
         "type": "scatter",
         "x": [
          0,
          0,
          46,
          0,
          114,
          130,
          0,
          0,
          0,
          0
         ],
         "xaxis": "x",
         "y": [
          "AURELIA",
          "W",
          "HERE&NOW",
          "Lavie",
          "Roadster",
          "US Polo",
          "DressBerry",
          "Vishudh",
          "Soie",
          "Carlton London"
         ],
         "yaxis": "y"
        },
        {
         "marker": {
          "color": [
           "#4c78a8",
           "#4c78a8",
           "#4c78a8",
           "#4c78a8",
           "#4c78a8",
           "#4c78a8",
           "#4c78a8",
           "#4c78a8",
           "#4c78a8",
           "#4c78a8"
          ],
          "size": 10
         },
         "mode": "markers",
         "name": "Men",
         "orientation": "h",
         "showlegend": false,
         "type": "scatter",
         "x": [
          968,
          297,
          276,
          174,
          167,
          152,
          150,
          130,
          130,
          114
         ],
         "xaxis": "x2",
         "y": [
          "Indian Terrain",
          "Pepe Jeans",
          "Flying Machine",
          "WROGN",
          "Puma",
          "Parx",
          "Park Avenue",
          "US Polo",
          "Calvin Klein Jeans",
          "Roadster"
         ],
         "yaxis": "y2"
        },
        {
         "marker": {
          "color": [
           "#72b7b2",
           "#72b7b2",
           "#72b7b2",
           "#72b7b2",
           "#72b7b2",
           "#72b7b2",
           "#72b7b2",
           "#72b7b2",
           "#72b7b2",
           "#72b7b2"
          ],
          "size": 10
         },
         "mode": "markers",
         "name": "Women",
         "orientation": "h",
         "showlegend": false,
         "type": "scatter",
         "x": [
          0,
          40,
          23,
          0,
          32,
          0,
          21,
          104,
          0,
          108
         ],
         "xaxis": "x2",
         "y": [
          "Indian Terrain",
          "Pepe Jeans",
          "Flying Machine",
          "WROGN",
          "Puma",
          "Parx",
          "Park Avenue",
          "US Polo",
          "Calvin Klein Jeans",
          "Roadster"
         ],
         "yaxis": "y2"
        }
       ],
       "layout": {
        "annotations": [
         {
          "align": "center",
          "font": {
           "size": 17
          },
          "showarrow": false,
          "text": "Top 10 standout brands for <span style='color:#72b7b2'><b>Women</b></span><br>",
          "x": 0,
          "xref": "paper",
          "y": 1.2,
          "yref": "paper"
         },
         {
          "align": "center",
          "font": {
           "size": 17
          },
          "showarrow": false,
          "text": "Top 10 standout brands for <span style='color:#4c78a8'><b>Men</b></span><br>",
          "x": 0.9,
          "xref": "paper",
          "y": 1.2,
          "yref": "paper"
         }
        ],
        "font": {
         "color": "#666"
        },
        "height": 450,
        "hoverlabel": {
         "bgcolor": "#f2f2f2",
         "font": {
          "family": "Lato, sans-serif",
          "size": 13
         }
        },
        "hovermode": "y unified",
        "legend": {
         "font": {
          "size": 13
         },
         "orientation": "h",
         "title": {
          "text": ""
         },
         "x": 0.5,
         "xanchor": "center",
         "y": 1.22,
         "yanchor": "bottom"
        },
        "margin": {
         "b": 20,
         "l": 100,
         "r": 50,
         "t": 150
        },
        "paper_bgcolor": "#fafafa",
        "plot_bgcolor": "#fafafa",
        "template": {
         "data": {
          "bar": [
           {
            "error_x": {
             "color": "#2a3f5f"
            },
            "error_y": {
             "color": "#2a3f5f"
            },
            "marker": {
             "line": {
              "color": "#E5ECF6",
              "width": 0.5
             },
             "pattern": {
              "fillmode": "overlay",
              "size": 10,
              "solidity": 0.2
             }
            },
            "type": "bar"
           }
          ],
          "barpolar": [
           {
            "marker": {
             "line": {
              "color": "#E5ECF6",
              "width": 0.5
             },
             "pattern": {
              "fillmode": "overlay",
              "size": 10,
              "solidity": 0.2
             }
            },
            "type": "barpolar"
           }
          ],
          "carpet": [
           {
            "aaxis": {
             "endlinecolor": "#2a3f5f",
             "gridcolor": "white",
             "linecolor": "white",
             "minorgridcolor": "white",
             "startlinecolor": "#2a3f5f"
            },
            "baxis": {
             "endlinecolor": "#2a3f5f",
             "gridcolor": "white",
             "linecolor": "white",
             "minorgridcolor": "white",
             "startlinecolor": "#2a3f5f"
            },
            "type": "carpet"
           }
          ],
          "choropleth": [
           {
            "colorbar": {
             "outlinewidth": 0,
             "ticks": ""
            },
            "type": "choropleth"
           }
          ],
          "contour": [
           {
            "colorbar": {
             "outlinewidth": 0,
             "ticks": ""
            },
            "colorscale": [
             [
              0,
              "#0d0887"
             ],
             [
              0.1111111111111111,
              "#46039f"
             ],
             [
              0.2222222222222222,
              "#7201a8"
             ],
             [
              0.3333333333333333,
              "#9c179e"
             ],
             [
              0.4444444444444444,
              "#bd3786"
             ],
             [
              0.5555555555555556,
              "#d8576b"
             ],
             [
              0.6666666666666666,
              "#ed7953"
             ],
             [
              0.7777777777777778,
              "#fb9f3a"
             ],
             [
              0.8888888888888888,
              "#fdca26"
             ],
             [
              1,
              "#f0f921"
             ]
            ],
            "type": "contour"
           }
          ],
          "contourcarpet": [
           {
            "colorbar": {
             "outlinewidth": 0,
             "ticks": ""
            },
            "type": "contourcarpet"
           }
          ],
          "heatmap": [
           {
            "colorbar": {
             "outlinewidth": 0,
             "ticks": ""
            },
            "colorscale": [
             [
              0,
              "#0d0887"
             ],
             [
              0.1111111111111111,
              "#46039f"
             ],
             [
              0.2222222222222222,
              "#7201a8"
             ],
             [
              0.3333333333333333,
              "#9c179e"
             ],
             [
              0.4444444444444444,
              "#bd3786"
             ],
             [
              0.5555555555555556,
              "#d8576b"
             ],
             [
              0.6666666666666666,
              "#ed7953"
             ],
             [
              0.7777777777777778,
              "#fb9f3a"
             ],
             [
              0.8888888888888888,
              "#fdca26"
             ],
             [
              1,
              "#f0f921"
             ]
            ],
            "type": "heatmap"
           }
          ],
          "heatmapgl": [
           {
            "colorbar": {
             "outlinewidth": 0,
             "ticks": ""
            },
            "colorscale": [
             [
              0,
              "#0d0887"
             ],
             [
              0.1111111111111111,
              "#46039f"
             ],
             [
              0.2222222222222222,
              "#7201a8"
             ],
             [
              0.3333333333333333,
              "#9c179e"
             ],
             [
              0.4444444444444444,
              "#bd3786"
             ],
             [
              0.5555555555555556,
              "#d8576b"
             ],
             [
              0.6666666666666666,
              "#ed7953"
             ],
             [
              0.7777777777777778,
              "#fb9f3a"
             ],
             [
              0.8888888888888888,
              "#fdca26"
             ],
             [
              1,
              "#f0f921"
             ]
            ],
            "type": "heatmapgl"
           }
          ],
          "histogram": [
           {
            "marker": {
             "pattern": {
              "fillmode": "overlay",
              "size": 10,
              "solidity": 0.2
             }
            },
            "type": "histogram"
           }
          ],
          "histogram2d": [
           {
            "colorbar": {
             "outlinewidth": 0,
             "ticks": ""
            },
            "colorscale": [
             [
              0,
              "#0d0887"
             ],
             [
              0.1111111111111111,
              "#46039f"
             ],
             [
              0.2222222222222222,
              "#7201a8"
             ],
             [
              0.3333333333333333,
              "#9c179e"
             ],
             [
              0.4444444444444444,
              "#bd3786"
             ],
             [
              0.5555555555555556,
              "#d8576b"
             ],
             [
              0.6666666666666666,
              "#ed7953"
             ],
             [
              0.7777777777777778,
              "#fb9f3a"
             ],
             [
              0.8888888888888888,
              "#fdca26"
             ],
             [
              1,
              "#f0f921"
             ]
            ],
            "type": "histogram2d"
           }
          ],
          "histogram2dcontour": [
           {
            "colorbar": {
             "outlinewidth": 0,
             "ticks": ""
            },
            "colorscale": [
             [
              0,
              "#0d0887"
             ],
             [
              0.1111111111111111,
              "#46039f"
             ],
             [
              0.2222222222222222,
              "#7201a8"
             ],
             [
              0.3333333333333333,
              "#9c179e"
             ],
             [
              0.4444444444444444,
              "#bd3786"
             ],
             [
              0.5555555555555556,
              "#d8576b"
             ],
             [
              0.6666666666666666,
              "#ed7953"
             ],
             [
              0.7777777777777778,
              "#fb9f3a"
             ],
             [
              0.8888888888888888,
              "#fdca26"
             ],
             [
              1,
              "#f0f921"
             ]
            ],
            "type": "histogram2dcontour"
           }
          ],
          "mesh3d": [
           {
            "colorbar": {
             "outlinewidth": 0,
             "ticks": ""
            },
            "type": "mesh3d"
           }
          ],
          "parcoords": [
           {
            "line": {
             "colorbar": {
              "outlinewidth": 0,
              "ticks": ""
             }
            },
            "type": "parcoords"
           }
          ],
          "pie": [
           {
            "automargin": true,
            "type": "pie"
           }
          ],
          "scatter": [
           {
            "fillpattern": {
             "fillmode": "overlay",
             "size": 10,
             "solidity": 0.2
            },
            "type": "scatter"
           }
          ],
          "scatter3d": [
           {
            "line": {
             "colorbar": {
              "outlinewidth": 0,
              "ticks": ""
             }
            },
            "marker": {
             "colorbar": {
              "outlinewidth": 0,
              "ticks": ""
             }
            },
            "type": "scatter3d"
           }
          ],
          "scattercarpet": [
           {
            "marker": {
             "colorbar": {
              "outlinewidth": 0,
              "ticks": ""
             }
            },
            "type": "scattercarpet"
           }
          ],
          "scattergeo": [
           {
            "marker": {
             "colorbar": {
              "outlinewidth": 0,
              "ticks": ""
             }
            },
            "type": "scattergeo"
           }
          ],
          "scattergl": [
           {
            "marker": {
             "colorbar": {
              "outlinewidth": 0,
              "ticks": ""
             }
            },
            "type": "scattergl"
           }
          ],
          "scattermapbox": [
           {
            "marker": {
             "colorbar": {
              "outlinewidth": 0,
              "ticks": ""
             }
            },
            "type": "scattermapbox"
           }
          ],
          "scatterpolar": [
           {
            "marker": {
             "colorbar": {
              "outlinewidth": 0,
              "ticks": ""
             }
            },
            "type": "scatterpolar"
           }
          ],
          "scatterpolargl": [
           {
            "marker": {
             "colorbar": {
              "outlinewidth": 0,
              "ticks": ""
             }
            },
            "type": "scatterpolargl"
           }
          ],
          "scatterternary": [
           {
            "marker": {
             "colorbar": {
              "outlinewidth": 0,
              "ticks": ""
             }
            },
            "type": "scatterternary"
           }
          ],
          "surface": [
           {
            "colorbar": {
             "outlinewidth": 0,
             "ticks": ""
            },
            "colorscale": [
             [
              0,
              "#0d0887"
             ],
             [
              0.1111111111111111,
              "#46039f"
             ],
             [
              0.2222222222222222,
              "#7201a8"
             ],
             [
              0.3333333333333333,
              "#9c179e"
             ],
             [
              0.4444444444444444,
              "#bd3786"
             ],
             [
              0.5555555555555556,
              "#d8576b"
             ],
             [
              0.6666666666666666,
              "#ed7953"
             ],
             [
              0.7777777777777778,
              "#fb9f3a"
             ],
             [
              0.8888888888888888,
              "#fdca26"
             ],
             [
              1,
              "#f0f921"
             ]
            ],
            "type": "surface"
           }
          ],
          "table": [
           {
            "cells": {
             "fill": {
              "color": "#EBF0F8"
             },
             "line": {
              "color": "white"
             }
            },
            "header": {
             "fill": {
              "color": "#C8D4E3"
             },
             "line": {
              "color": "white"
             }
            },
            "type": "table"
           }
          ]
         },
         "layout": {
          "annotationdefaults": {
           "arrowcolor": "#2a3f5f",
           "arrowhead": 0,
           "arrowwidth": 1
          },
          "autotypenumbers": "strict",
          "coloraxis": {
           "colorbar": {
            "outlinewidth": 0,
            "ticks": ""
           }
          },
          "colorscale": {
           "diverging": [
            [
             0,
             "#8e0152"
            ],
            [
             0.1,
             "#c51b7d"
            ],
            [
             0.2,
             "#de77ae"
            ],
            [
             0.3,
             "#f1b6da"
            ],
            [
             0.4,
             "#fde0ef"
            ],
            [
             0.5,
             "#f7f7f7"
            ],
            [
             0.6,
             "#e6f5d0"
            ],
            [
             0.7,
             "#b8e186"
            ],
            [
             0.8,
             "#7fbc41"
            ],
            [
             0.9,
             "#4d9221"
            ],
            [
             1,
             "#276419"
            ]
           ],
           "sequential": [
            [
             0,
             "#0d0887"
            ],
            [
             0.1111111111111111,
             "#46039f"
            ],
            [
             0.2222222222222222,
             "#7201a8"
            ],
            [
             0.3333333333333333,
             "#9c179e"
            ],
            [
             0.4444444444444444,
             "#bd3786"
            ],
            [
             0.5555555555555556,
             "#d8576b"
            ],
            [
             0.6666666666666666,
             "#ed7953"
            ],
            [
             0.7777777777777778,
             "#fb9f3a"
            ],
            [
             0.8888888888888888,
             "#fdca26"
            ],
            [
             1,
             "#f0f921"
            ]
           ],
           "sequentialminus": [
            [
             0,
             "#0d0887"
            ],
            [
             0.1111111111111111,
             "#46039f"
            ],
            [
             0.2222222222222222,
             "#7201a8"
            ],
            [
             0.3333333333333333,
             "#9c179e"
            ],
            [
             0.4444444444444444,
             "#bd3786"
            ],
            [
             0.5555555555555556,
             "#d8576b"
            ],
            [
             0.6666666666666666,
             "#ed7953"
            ],
            [
             0.7777777777777778,
             "#fb9f3a"
            ],
            [
             0.8888888888888888,
             "#fdca26"
            ],
            [
             1,
             "#f0f921"
            ]
           ]
          },
          "colorway": [
           "#636efa",
           "#EF553B",
           "#00cc96",
           "#ab63fa",
           "#FFA15A",
           "#19d3f3",
           "#FF6692",
           "#B6E880",
           "#FF97FF",
           "#FECB52"
          ],
          "font": {
           "color": "#2a3f5f"
          },
          "geo": {
           "bgcolor": "white",
           "lakecolor": "white",
           "landcolor": "#E5ECF6",
           "showlakes": true,
           "showland": true,
           "subunitcolor": "white"
          },
          "hoverlabel": {
           "align": "left"
          },
          "hovermode": "closest",
          "mapbox": {
           "style": "light"
          },
          "paper_bgcolor": "white",
          "plot_bgcolor": "#E5ECF6",
          "polar": {
           "angularaxis": {
            "gridcolor": "white",
            "linecolor": "white",
            "ticks": ""
           },
           "bgcolor": "#E5ECF6",
           "radialaxis": {
            "gridcolor": "white",
            "linecolor": "white",
            "ticks": ""
           }
          },
          "scene": {
           "xaxis": {
            "backgroundcolor": "#E5ECF6",
            "gridcolor": "white",
            "gridwidth": 2,
            "linecolor": "white",
            "showbackground": true,
            "ticks": "",
            "zerolinecolor": "white"
           },
           "yaxis": {
            "backgroundcolor": "#E5ECF6",
            "gridcolor": "white",
            "gridwidth": 2,
            "linecolor": "white",
            "showbackground": true,
            "ticks": "",
            "zerolinecolor": "white"
           },
           "zaxis": {
            "backgroundcolor": "#E5ECF6",
            "gridcolor": "white",
            "gridwidth": 2,
            "linecolor": "white",
            "showbackground": true,
            "ticks": "",
            "zerolinecolor": "white"
           }
          },
          "shapedefaults": {
           "line": {
            "color": "#2a3f5f"
           }
          },
          "ternary": {
           "aaxis": {
            "gridcolor": "white",
            "linecolor": "white",
            "ticks": ""
           },
           "baxis": {
            "gridcolor": "white",
            "linecolor": "white",
            "ticks": ""
           },
           "bgcolor": "#E5ECF6",
           "caxis": {
            "gridcolor": "white",
            "linecolor": "white",
            "ticks": ""
           }
          },
          "title": {
           "x": 0.05
          },
          "xaxis": {
           "automargin": true,
           "gridcolor": "white",
           "linecolor": "white",
           "ticks": "",
           "title": {
            "standoff": 15
           },
           "zerolinecolor": "white",
           "zerolinewidth": 2
          },
          "yaxis": {
           "automargin": true,
           "gridcolor": "white",
           "linecolor": "white",
           "ticks": "",
           "title": {
            "standoff": 15
           },
           "zerolinecolor": "white",
           "zerolinewidth": 2
          }
         }
        },
        "title": {
         "text": "<span style='font-size:50px; color=#555; font-family:Times New Roman'>The Brands Men, Womens ♥️ More</span>",
         "x": 0.5,
         "xanchor": "center",
         "y": 0.91,
         "yanchor": "top"
        },
        "xaxis": {
         "anchor": "y",
         "domain": [
          0,
          0.425
         ],
         "showgrid": false,
         "side": "top",
         "zeroline": false
        },
        "xaxis2": {
         "anchor": "y2",
         "domain": [
          0.575,
          1
         ],
         "showgrid": false,
         "side": "top",
         "zeroline": false
        },
        "yaxis": {
         "anchor": "x",
         "categoryorder": "total ascending",
         "domain": [
          0,
          1
         ],
         "gridcolor": "#F9F1F0",
         "ticksuffix": " "
        },
        "yaxis2": {
         "anchor": "x2",
         "categoryorder": "total ascending",
         "domain": [
          0,
          1
         ],
         "gridcolor": "#F9F1F0",
         "ticksuffix": " "
        }
       }
      },
      "text/html": [
       "<div>                            <div id=\"72f7cd79-c90b-4802-88f2-bce8f69dcdce\" class=\"plotly-graph-div\" style=\"height:450px; width:100%;\"></div>            <script type=\"text/javascript\">                require([\"plotly\"], function(Plotly) {                    window.PLOTLYENV=window.PLOTLYENV || {};                                    if (document.getElementById(\"72f7cd79-c90b-4802-88f2-bce8f69dcdce\")) {                    Plotly.newPlot(                        \"72f7cd79-c90b-4802-88f2-bce8f69dcdce\",                        [{\"marker\":{\"color\":[\"#72b7b2\",\"#72b7b2\",\"#72b7b2\",\"#72b7b2\",\"#72b7b2\",\"#72b7b2\",\"#72b7b2\",\"#72b7b2\",\"#72b7b2\",\"#72b7b2\"],\"size\":10},\"mode\":\"markers\",\"name\":\"Women\",\"x\":[304,260,118,118,108,104,96,77,66,63],\"y\":[\"AURELIA\",\"W\",\"HERE&NOW\",\"Lavie\",\"Roadster\",\"US Polo\",\"DressBerry\",\"Vishudh\",\"Soie\",\"Carlton London\"],\"type\":\"scatter\",\"xaxis\":\"x\",\"yaxis\":\"y\"},{\"marker\":{\"color\":[\"#4c78a8\",\"#4c78a8\",\"#4c78a8\",\"#4c78a8\",\"#4c78a8\",\"#4c78a8\",\"#4c78a8\",\"#4c78a8\",\"#4c78a8\",\"#4c78a8\"],\"size\":10},\"mode\":\"markers\",\"name\":\"Men\",\"x\":[0,0,46,0,114,130,0,0,0,0],\"y\":[\"AURELIA\",\"W\",\"HERE&NOW\",\"Lavie\",\"Roadster\",\"US Polo\",\"DressBerry\",\"Vishudh\",\"Soie\",\"Carlton London\"],\"type\":\"scatter\",\"xaxis\":\"x\",\"yaxis\":\"y\"},{\"marker\":{\"color\":[\"#4c78a8\",\"#4c78a8\",\"#4c78a8\",\"#4c78a8\",\"#4c78a8\",\"#4c78a8\",\"#4c78a8\",\"#4c78a8\",\"#4c78a8\",\"#4c78a8\"],\"size\":10},\"mode\":\"markers\",\"name\":\"Men\",\"orientation\":\"h\",\"showlegend\":false,\"x\":[968,297,276,174,167,152,150,130,130,114],\"y\":[\"Indian Terrain\",\"Pepe Jeans\",\"Flying Machine\",\"WROGN\",\"Puma\",\"Parx\",\"Park Avenue\",\"US Polo\",\"Calvin Klein Jeans\",\"Roadster\"],\"type\":\"scatter\",\"xaxis\":\"x2\",\"yaxis\":\"y2\"},{\"marker\":{\"color\":[\"#72b7b2\",\"#72b7b2\",\"#72b7b2\",\"#72b7b2\",\"#72b7b2\",\"#72b7b2\",\"#72b7b2\",\"#72b7b2\",\"#72b7b2\",\"#72b7b2\"],\"size\":10},\"mode\":\"markers\",\"name\":\"Women\",\"orientation\":\"h\",\"showlegend\":false,\"x\":[0,40,23,0,32,0,21,104,0,108],\"y\":[\"Indian Terrain\",\"Pepe Jeans\",\"Flying Machine\",\"WROGN\",\"Puma\",\"Parx\",\"Park Avenue\",\"US Polo\",\"Calvin Klein Jeans\",\"Roadster\"],\"type\":\"scatter\",\"xaxis\":\"x2\",\"yaxis\":\"y2\"}],                        {\"template\":{\"data\":{\"histogram2dcontour\":[{\"type\":\"histogram2dcontour\",\"colorbar\":{\"outlinewidth\":0,\"ticks\":\"\"},\"colorscale\":[[0.0,\"#0d0887\"],[0.1111111111111111,\"#46039f\"],[0.2222222222222222,\"#7201a8\"],[0.3333333333333333,\"#9c179e\"],[0.4444444444444444,\"#bd3786\"],[0.5555555555555556,\"#d8576b\"],[0.6666666666666666,\"#ed7953\"],[0.7777777777777778,\"#fb9f3a\"],[0.8888888888888888,\"#fdca26\"],[1.0,\"#f0f921\"]]}],\"choropleth\":[{\"type\":\"choropleth\",\"colorbar\":{\"outlinewidth\":0,\"ticks\":\"\"}}],\"histogram2d\":[{\"type\":\"histogram2d\",\"colorbar\":{\"outlinewidth\":0,\"ticks\":\"\"},\"colorscale\":[[0.0,\"#0d0887\"],[0.1111111111111111,\"#46039f\"],[0.2222222222222222,\"#7201a8\"],[0.3333333333333333,\"#9c179e\"],[0.4444444444444444,\"#bd3786\"],[0.5555555555555556,\"#d8576b\"],[0.6666666666666666,\"#ed7953\"],[0.7777777777777778,\"#fb9f3a\"],[0.8888888888888888,\"#fdca26\"],[1.0,\"#f0f921\"]]}],\"heatmap\":[{\"type\":\"heatmap\",\"colorbar\":{\"outlinewidth\":0,\"ticks\":\"\"},\"colorscale\":[[0.0,\"#0d0887\"],[0.1111111111111111,\"#46039f\"],[0.2222222222222222,\"#7201a8\"],[0.3333333333333333,\"#9c179e\"],[0.4444444444444444,\"#bd3786\"],[0.5555555555555556,\"#d8576b\"],[0.6666666666666666,\"#ed7953\"],[0.7777777777777778,\"#fb9f3a\"],[0.8888888888888888,\"#fdca26\"],[1.0,\"#f0f921\"]]}],\"heatmapgl\":[{\"type\":\"heatmapgl\",\"colorbar\":{\"outlinewidth\":0,\"ticks\":\"\"},\"colorscale\":[[0.0,\"#0d0887\"],[0.1111111111111111,\"#46039f\"],[0.2222222222222222,\"#7201a8\"],[0.3333333333333333,\"#9c179e\"],[0.4444444444444444,\"#bd3786\"],[0.5555555555555556,\"#d8576b\"],[0.6666666666666666,\"#ed7953\"],[0.7777777777777778,\"#fb9f3a\"],[0.8888888888888888,\"#fdca26\"],[1.0,\"#f0f921\"]]}],\"contourcarpet\":[{\"type\":\"contourcarpet\",\"colorbar\":{\"outlinewidth\":0,\"ticks\":\"\"}}],\"contour\":[{\"type\":\"contour\",\"colorbar\":{\"outlinewidth\":0,\"ticks\":\"\"},\"colorscale\":[[0.0,\"#0d0887\"],[0.1111111111111111,\"#46039f\"],[0.2222222222222222,\"#7201a8\"],[0.3333333333333333,\"#9c179e\"],[0.4444444444444444,\"#bd3786\"],[0.5555555555555556,\"#d8576b\"],[0.6666666666666666,\"#ed7953\"],[0.7777777777777778,\"#fb9f3a\"],[0.8888888888888888,\"#fdca26\"],[1.0,\"#f0f921\"]]}],\"surface\":[{\"type\":\"surface\",\"colorbar\":{\"outlinewidth\":0,\"ticks\":\"\"},\"colorscale\":[[0.0,\"#0d0887\"],[0.1111111111111111,\"#46039f\"],[0.2222222222222222,\"#7201a8\"],[0.3333333333333333,\"#9c179e\"],[0.4444444444444444,\"#bd3786\"],[0.5555555555555556,\"#d8576b\"],[0.6666666666666666,\"#ed7953\"],[0.7777777777777778,\"#fb9f3a\"],[0.8888888888888888,\"#fdca26\"],[1.0,\"#f0f921\"]]}],\"mesh3d\":[{\"type\":\"mesh3d\",\"colorbar\":{\"outlinewidth\":0,\"ticks\":\"\"}}],\"scatter\":[{\"fillpattern\":{\"fillmode\":\"overlay\",\"size\":10,\"solidity\":0.2},\"type\":\"scatter\"}],\"parcoords\":[{\"type\":\"parcoords\",\"line\":{\"colorbar\":{\"outlinewidth\":0,\"ticks\":\"\"}}}],\"scatterpolargl\":[{\"type\":\"scatterpolargl\",\"marker\":{\"colorbar\":{\"outlinewidth\":0,\"ticks\":\"\"}}}],\"bar\":[{\"error_x\":{\"color\":\"#2a3f5f\"},\"error_y\":{\"color\":\"#2a3f5f\"},\"marker\":{\"line\":{\"color\":\"#E5ECF6\",\"width\":0.5},\"pattern\":{\"fillmode\":\"overlay\",\"size\":10,\"solidity\":0.2}},\"type\":\"bar\"}],\"scattergeo\":[{\"type\":\"scattergeo\",\"marker\":{\"colorbar\":{\"outlinewidth\":0,\"ticks\":\"\"}}}],\"scatterpolar\":[{\"type\":\"scatterpolar\",\"marker\":{\"colorbar\":{\"outlinewidth\":0,\"ticks\":\"\"}}}],\"histogram\":[{\"marker\":{\"pattern\":{\"fillmode\":\"overlay\",\"size\":10,\"solidity\":0.2}},\"type\":\"histogram\"}],\"scattergl\":[{\"type\":\"scattergl\",\"marker\":{\"colorbar\":{\"outlinewidth\":0,\"ticks\":\"\"}}}],\"scatter3d\":[{\"type\":\"scatter3d\",\"line\":{\"colorbar\":{\"outlinewidth\":0,\"ticks\":\"\"}},\"marker\":{\"colorbar\":{\"outlinewidth\":0,\"ticks\":\"\"}}}],\"scattermapbox\":[{\"type\":\"scattermapbox\",\"marker\":{\"colorbar\":{\"outlinewidth\":0,\"ticks\":\"\"}}}],\"scatterternary\":[{\"type\":\"scatterternary\",\"marker\":{\"colorbar\":{\"outlinewidth\":0,\"ticks\":\"\"}}}],\"scattercarpet\":[{\"type\":\"scattercarpet\",\"marker\":{\"colorbar\":{\"outlinewidth\":0,\"ticks\":\"\"}}}],\"carpet\":[{\"aaxis\":{\"endlinecolor\":\"#2a3f5f\",\"gridcolor\":\"white\",\"linecolor\":\"white\",\"minorgridcolor\":\"white\",\"startlinecolor\":\"#2a3f5f\"},\"baxis\":{\"endlinecolor\":\"#2a3f5f\",\"gridcolor\":\"white\",\"linecolor\":\"white\",\"minorgridcolor\":\"white\",\"startlinecolor\":\"#2a3f5f\"},\"type\":\"carpet\"}],\"table\":[{\"cells\":{\"fill\":{\"color\":\"#EBF0F8\"},\"line\":{\"color\":\"white\"}},\"header\":{\"fill\":{\"color\":\"#C8D4E3\"},\"line\":{\"color\":\"white\"}},\"type\":\"table\"}],\"barpolar\":[{\"marker\":{\"line\":{\"color\":\"#E5ECF6\",\"width\":0.5},\"pattern\":{\"fillmode\":\"overlay\",\"size\":10,\"solidity\":0.2}},\"type\":\"barpolar\"}],\"pie\":[{\"automargin\":true,\"type\":\"pie\"}]},\"layout\":{\"autotypenumbers\":\"strict\",\"colorway\":[\"#636efa\",\"#EF553B\",\"#00cc96\",\"#ab63fa\",\"#FFA15A\",\"#19d3f3\",\"#FF6692\",\"#B6E880\",\"#FF97FF\",\"#FECB52\"],\"font\":{\"color\":\"#2a3f5f\"},\"hovermode\":\"closest\",\"hoverlabel\":{\"align\":\"left\"},\"paper_bgcolor\":\"white\",\"plot_bgcolor\":\"#E5ECF6\",\"polar\":{\"bgcolor\":\"#E5ECF6\",\"angularaxis\":{\"gridcolor\":\"white\",\"linecolor\":\"white\",\"ticks\":\"\"},\"radialaxis\":{\"gridcolor\":\"white\",\"linecolor\":\"white\",\"ticks\":\"\"}},\"ternary\":{\"bgcolor\":\"#E5ECF6\",\"aaxis\":{\"gridcolor\":\"white\",\"linecolor\":\"white\",\"ticks\":\"\"},\"baxis\":{\"gridcolor\":\"white\",\"linecolor\":\"white\",\"ticks\":\"\"},\"caxis\":{\"gridcolor\":\"white\",\"linecolor\":\"white\",\"ticks\":\"\"}},\"coloraxis\":{\"colorbar\":{\"outlinewidth\":0,\"ticks\":\"\"}},\"colorscale\":{\"sequential\":[[0.0,\"#0d0887\"],[0.1111111111111111,\"#46039f\"],[0.2222222222222222,\"#7201a8\"],[0.3333333333333333,\"#9c179e\"],[0.4444444444444444,\"#bd3786\"],[0.5555555555555556,\"#d8576b\"],[0.6666666666666666,\"#ed7953\"],[0.7777777777777778,\"#fb9f3a\"],[0.8888888888888888,\"#fdca26\"],[1.0,\"#f0f921\"]],\"sequentialminus\":[[0.0,\"#0d0887\"],[0.1111111111111111,\"#46039f\"],[0.2222222222222222,\"#7201a8\"],[0.3333333333333333,\"#9c179e\"],[0.4444444444444444,\"#bd3786\"],[0.5555555555555556,\"#d8576b\"],[0.6666666666666666,\"#ed7953\"],[0.7777777777777778,\"#fb9f3a\"],[0.8888888888888888,\"#fdca26\"],[1.0,\"#f0f921\"]],\"diverging\":[[0,\"#8e0152\"],[0.1,\"#c51b7d\"],[0.2,\"#de77ae\"],[0.3,\"#f1b6da\"],[0.4,\"#fde0ef\"],[0.5,\"#f7f7f7\"],[0.6,\"#e6f5d0\"],[0.7,\"#b8e186\"],[0.8,\"#7fbc41\"],[0.9,\"#4d9221\"],[1,\"#276419\"]]},\"xaxis\":{\"gridcolor\":\"white\",\"linecolor\":\"white\",\"ticks\":\"\",\"title\":{\"standoff\":15},\"zerolinecolor\":\"white\",\"automargin\":true,\"zerolinewidth\":2},\"yaxis\":{\"gridcolor\":\"white\",\"linecolor\":\"white\",\"ticks\":\"\",\"title\":{\"standoff\":15},\"zerolinecolor\":\"white\",\"automargin\":true,\"zerolinewidth\":2},\"scene\":{\"xaxis\":{\"backgroundcolor\":\"#E5ECF6\",\"gridcolor\":\"white\",\"linecolor\":\"white\",\"showbackground\":true,\"ticks\":\"\",\"zerolinecolor\":\"white\",\"gridwidth\":2},\"yaxis\":{\"backgroundcolor\":\"#E5ECF6\",\"gridcolor\":\"white\",\"linecolor\":\"white\",\"showbackground\":true,\"ticks\":\"\",\"zerolinecolor\":\"white\",\"gridwidth\":2},\"zaxis\":{\"backgroundcolor\":\"#E5ECF6\",\"gridcolor\":\"white\",\"linecolor\":\"white\",\"showbackground\":true,\"ticks\":\"\",\"zerolinecolor\":\"white\",\"gridwidth\":2}},\"shapedefaults\":{\"line\":{\"color\":\"#2a3f5f\"}},\"annotationdefaults\":{\"arrowcolor\":\"#2a3f5f\",\"arrowhead\":0,\"arrowwidth\":1},\"geo\":{\"bgcolor\":\"white\",\"landcolor\":\"#E5ECF6\",\"subunitcolor\":\"white\",\"showland\":true,\"showlakes\":true,\"lakecolor\":\"white\"},\"title\":{\"x\":0.05},\"mapbox\":{\"style\":\"light\"}}},\"xaxis\":{\"anchor\":\"y\",\"domain\":[0.0,0.425],\"zeroline\":false,\"showgrid\":false,\"side\":\"top\"},\"yaxis\":{\"anchor\":\"x\",\"domain\":[0.0,1.0],\"ticksuffix\":\" \",\"gridcolor\":\"#F9F1F0\",\"categoryorder\":\"total ascending\"},\"xaxis2\":{\"anchor\":\"y2\",\"domain\":[0.575,1.0],\"zeroline\":false,\"showgrid\":false,\"side\":\"top\"},\"yaxis2\":{\"anchor\":\"x2\",\"domain\":[0.0,1.0],\"ticksuffix\":\" \",\"gridcolor\":\"#F9F1F0\",\"categoryorder\":\"total ascending\"},\"margin\":{\"b\":20,\"r\":50,\"l\":100,\"t\":150},\"title\":{\"text\":\"<span style='font-size:50px; color=#555; font-family:Times New Roman'>The Brands Men, Womens \\u2665\\ufe0f More</span>\",\"y\":0.91,\"x\":0.5,\"xanchor\":\"center\",\"yanchor\":\"top\"},\"font\":{\"color\":\"#666\"},\"hoverlabel\":{\"font\":{\"size\":13,\"family\":\"Lato, sans-serif\"},\"bgcolor\":\"#f2f2f2\"},\"legend\":{\"font\":{\"size\":13},\"title\":{\"text\":\"\"},\"orientation\":\"h\",\"yanchor\":\"bottom\",\"xanchor\":\"center\",\"x\":0.5,\"y\":1.22},\"height\":450,\"hovermode\":\"y unified\",\"plot_bgcolor\":\"#fafafa\",\"paper_bgcolor\":\"#fafafa\",\"annotations\":[{\"align\":\"center\",\"font\":{\"size\":17},\"showarrow\":false,\"text\":\"Top 10 standout brands for <span style='color:#72b7b2'><b>Women</b></span><br>\",\"x\":0,\"xref\":\"paper\",\"y\":1.2,\"yref\":\"paper\"},{\"align\":\"center\",\"font\":{\"size\":17},\"showarrow\":false,\"text\":\"Top 10 standout brands for <span style='color:#4c78a8'><b>Men</b></span><br>\",\"x\":0.9,\"xref\":\"paper\",\"y\":1.2,\"yref\":\"paper\"}]},                        {\"responsive\": true}                    ).then(function(){\n",
       "                            \n",
       "var gd = document.getElementById('72f7cd79-c90b-4802-88f2-bce8f69dcdce');\n",
       "var x = new MutationObserver(function (mutations, observer) {{\n",
       "        var display = window.getComputedStyle(gd).display;\n",
       "        if (!display || display === 'none') {{\n",
       "            console.log([gd, 'removed!']);\n",
       "            Plotly.purge(gd);\n",
       "            observer.disconnect();\n",
       "        }}\n",
       "}});\n",
       "\n",
       "// Listen for the removal of the full notebook cells\n",
       "var notebookContainer = gd.closest('#notebook-container');\n",
       "if (notebookContainer) {{\n",
       "    x.observe(notebookContainer, {childList: true});\n",
       "}}\n",
       "\n",
       "// Listen for the clearing of the current output cell\n",
       "var outputEl = gd.closest('.output');\n",
       "if (outputEl) {{\n",
       "    x.observe(outputEl, {childList: true});\n",
       "}}\n",
       "\n",
       "                        })                };                });            </script>        </div>"
      ]
     },
     "metadata": {},
     "output_type": "display_data"
    }
   ],
   "source": [
    "\n",
    "\n",
    "# chart\n",
    "fig = make_subplots(rows=1, cols=2,\n",
    "                    vertical_spacing=0, horizontal_spacing=0.15)\n",
    "                   \n",
    "\n",
    "fig.add_trace(go.Scatter(x=combined_df_pb_w['Women'], y=combined_df_pb_w['ProductBrand'], marker=dict(size=10, color=['#72b7b2']*10),\n",
    "                         mode='markers', name='Women'), \n",
    "                     row=1, col=1)\n",
    "fig.add_trace(go.Scatter(x=combined_df_pb_w['Men'], y=combined_df_pb_w['ProductBrand'], marker=dict(size=10, color=['#4c78a8']*10),\n",
    "                         mode='markers', name='Men'), \n",
    "                     row=1, col=1)\n",
    "fig.add_trace(go.Scatter(x=combined_df_pb_m['Men'], y=combined_df_pb_m['ProductBrand'], marker=dict(size=10, color=['#4c78a8']*10),\n",
    "                         mode='markers', showlegend=False, name='Men', orientation='h'), \n",
    "                     row=1, col=2)\n",
    "fig.add_trace(go.Scatter(x=combined_df_pb_m['Women'], y=combined_df_pb_m['ProductBrand'], marker=dict(size=10, color=['#72b7b2']*10),\n",
    "                        mode='markers', showlegend=False, name='Women', orientation='h'), \n",
    "                     row=1, col=2)\n",
    "#fig.add_hline(y=0, line_width=2, line_dash=\"dash\", line_color=\"#000\", row=2, col=1)\n",
    "\n",
    "fig.update_yaxes(ticksuffix=' ', gridcolor='#F9F1F0', categoryorder='total ascending') \n",
    "fig.update_xaxes(zeroline=False, showgrid=False, side='top')\n",
    "\n",
    "fig.update_layout(height=450, \n",
    "                  margin=dict(b=20,r=50,l=100,t=150),\n",
    "                  hovermode=\"y unified\", \n",
    "                  title={'text': \"<span style='font-size:50px; color=#555; font-family:Times New Roman'>The Brands Men, Womens ♥️ More</span>\",\n",
    "                         'y':0.91, 'x':0.5, \n",
    "                         'xanchor': 'center', 'yanchor': 'top'},\n",
    "                  plot_bgcolor='#fafafa', paper_bgcolor='#fafafa',\n",
    "                  font=dict(color='#666'),\n",
    "                  hoverlabel=dict(bgcolor=\"#f2f2f2\", font_size=13, font_family=\"Lato, sans-serif\"),\n",
    "                  legend=dict(title=\"\", orientation=\"h\", \n",
    "                              yanchor=\"bottom\", xanchor=\"center\",\n",
    "                              x=0.5, y=1.22, \n",
    "                              font_size=13))\n",
    "fig.add_annotation(dict(x=0, y=1.2,  align='center',\n",
    "                        xref = \"paper\", yref = \"paper\",\n",
    "                        showarrow = False, font_size=17,\n",
    "                        text=\"Top 10 standout brands for <span style='color:#72b7b2'><b>Women</b></span><br>\"))\n",
    "fig.add_annotation(dict(x=0.9, y=1.2,  align='center',\n",
    "                        xref = \"paper\", yref = \"paper\",\n",
    "                        showarrow = False, font_size=17,\n",
    "                        text=\"Top 10 standout brands for <span style='color:#4c78a8'><b>Men</b></span><br>\"))\n",
    "fig.show()"
   ]
  },
  {
   "cell_type": "code",
   "execution_count": 13,
   "metadata": {},
   "outputs": [
    {
     "name": "stderr",
     "output_type": "stream",
     "text": [
      "C:\\Users\\dx_st\\AppData\\Local\\Temp\\ipykernel_22540\\2527619110.py:3: FutureWarning:\n",
      "\n",
      "The default value of regex will change from True to False in a future version. In addition, single character regular expressions will *not* be treated as literal strings when regex=True.\n",
      "\n"
     ]
    }
   ],
   "source": [
    "# convert price to numerical values\n",
    "\n",
    "combined_df['Price'] = combined_df['Price'].str.replace('$', '').astype(float)\n",
    "\n"
   ]
  },
  {
   "cell_type": "code",
   "execution_count": 14,
   "metadata": {},
   "outputs": [
    {
     "name": "stdout",
     "output_type": "stream",
     "text": [
      "<class 'pandas.core.frame.DataFrame'>\n",
      "Int64Index: 11905 entries, 0 to 11950\n",
      "Data columns (total 5 columns):\n",
      " #   Column        Non-Null Count  Dtype  \n",
      "---  ------        --------------  -----  \n",
      " 0   ProductName   11905 non-null  object \n",
      " 1   ProductBrand  11905 non-null  object \n",
      " 2   Gender        11905 non-null  object \n",
      " 3   PrimaryColor  11905 non-null  object \n",
      " 4   Price         11905 non-null  float64\n",
      "dtypes: float64(1), object(4)\n",
      "memory usage: 558.0+ KB\n",
      "None\n"
     ]
    }
   ],
   "source": [
    "# again, let's see display the data types and non-null counts for each attribute\n",
    "print(combined_df.info())\n"
   ]
  },
  {
   "cell_type": "code",
   "execution_count": 15,
   "metadata": {},
   "outputs": [],
   "source": [
    "# Replace gender values with numerical codes\n",
    "gender_codes = {'Men': 1, 'Women': 2, 'Unisex': 3}\n",
    "combined_df['Gender'] = combined_df['Gender'].replace(gender_codes)\n",
    "\n"
   ]
  },
  {
   "cell_type": "code",
   "execution_count": 16,
   "metadata": {},
   "outputs": [
    {
     "name": "stdout",
     "output_type": "stream",
     "text": [
      "<class 'pandas.core.frame.DataFrame'>\n",
      "Int64Index: 11905 entries, 0 to 11950\n",
      "Data columns (total 5 columns):\n",
      " #   Column        Non-Null Count  Dtype  \n",
      "---  ------        --------------  -----  \n",
      " 0   ProductName   11905 non-null  object \n",
      " 1   ProductBrand  11905 non-null  object \n",
      " 2   Gender        11905 non-null  int64  \n",
      " 3   PrimaryColor  11905 non-null  object \n",
      " 4   Price         11905 non-null  float64\n",
      "dtypes: float64(1), int64(1), object(3)\n",
      "memory usage: 558.0+ KB\n",
      "None\n"
     ]
    }
   ],
   "source": [
    "print(combined_df.info())"
   ]
  },
  {
   "cell_type": "code",
   "execution_count": 17,
   "metadata": {},
   "outputs": [],
   "source": [
    "from sklearn.preprocessing import LabelEncoder\n",
    "\n",
    "# encoding product brand for machine learning\n",
    "\n",
    "encoder=LabelEncoder()\n",
    "combined_df['ProductBrand']=encoder.fit_transform(combined_df['ProductBrand'])\n"
   ]
  },
  {
   "cell_type": "code",
   "execution_count": 18,
   "metadata": {},
   "outputs": [
    {
     "name": "stdout",
     "output_type": "stream",
     "text": [
      "<class 'pandas.core.frame.DataFrame'>\n",
      "Int64Index: 11905 entries, 0 to 11950\n",
      "Data columns (total 5 columns):\n",
      " #   Column        Non-Null Count  Dtype  \n",
      "---  ------        --------------  -----  \n",
      " 0   ProductName   11905 non-null  object \n",
      " 1   ProductBrand  11905 non-null  int32  \n",
      " 2   Gender        11905 non-null  int64  \n",
      " 3   PrimaryColor  11905 non-null  object \n",
      " 4   Price         11905 non-null  float64\n",
      "dtypes: float64(1), int32(1), int64(1), object(2)\n",
      "memory usage: 511.5+ KB\n",
      "None\n"
     ]
    }
   ],
   "source": [
    "print(combined_df.info())"
   ]
  },
  {
   "cell_type": "code",
   "execution_count": 19,
   "metadata": {},
   "outputs": [
    {
     "name": "stdout",
     "output_type": "stream",
     "text": [
      "                                             ProductName  ProductBrand  \\\n",
      "0      DKNY Unisex Black & Grey Printed Medium Trolle...           173   \n",
      "1      EthnoVogue Women Beige & Grey Made to Measure ...           214   \n",
      "2      SPYKAR Women Pink Alexa Super Skinny Fit High-...           591   \n",
      "3      Raymond Men Blue Self-Design Single-Breasted B...           552   \n",
      "4      Parx Men Brown & Off-White Slim Fit Printed Ca...           514   \n",
      "...                                                  ...           ...   \n",
      "11946  Womens Cargo Capris Hiking Pants Lightweight Q...            52   \n",
      "11947  ODODOS Women's Crop 3-Pack Washed Seamless Rib...           491   \n",
      "11948  Dokotoo Womens 2023 Summer Floral Print Off Th...           190   \n",
      "11949  Floerns Women's Boho Floral Print Off Shoulder...           238   \n",
      "11950  WIHOLL Two Piece Outfits for Women Short Sleev...           724   \n",
      "\n",
      "       Gender PrimaryColor   Price  \n",
      "0           3        Black  140.94  \n",
      "1           2        Beige   69.72  \n",
      "2           2         Pink   10.79  \n",
      "3           1         Blue   67.19  \n",
      "4           1        White    9.11  \n",
      "...       ...          ...     ...  \n",
      "11946       2      A1#blue   10.79  \n",
      "11947       2        beige   28.98  \n",
      "11948       2        White   36.99  \n",
      "11949       2    Red/White   41.99  \n",
      "11950       2      1-black   26.99  \n",
      "\n",
      "[11905 rows x 5 columns]\n"
     ]
    }
   ],
   "source": [
    "print(combined_df)"
   ]
  },
  {
   "cell_type": "code",
   "execution_count": 20,
   "metadata": {},
   "outputs": [
    {
     "name": "stdout",
     "output_type": "stream",
     "text": [
      "MAE: 6.37\n",
      "MSE: 251.71\n",
      "RMSE: 15.87\n",
      "R2 score: 0.67\n",
      "Predicted price: 73.20\n"
     ]
    }
   ],
   "source": [
    "import pandas as pd\n",
    "from sklearn.ensemble import RandomForestRegressor\n",
    "from sklearn.model_selection import train_test_split\n",
    "from sklearn.metrics import mean_absolute_error, mean_squared_error, r2_score\n",
    "\n",
    "# Prepare the data\n",
    "X = combined_df[['Gender', 'ProductBrand']] # Select relevant features\n",
    "\n",
    "y = combined_df['Price'] # Select target variable\n",
    "\n",
    "# Split the data into training and testing sets\n",
    "X_train, X_test, y_train, y_test = train_test_split(X, y, test_size=0.2, random_state=39)\n",
    "\n",
    "# Choose a model\n",
    "model = RandomForestRegressor(n_estimators=100, random_state=39)\n",
    "\n",
    "# Train the model\n",
    "model.fit(X_train, y_train)\n",
    "\n",
    "# Evaluate the model\n",
    "y_pred = model.predict(X_test)\n",
    "mae = mean_absolute_error(y_test, y_pred)\n",
    "mse = mean_squared_error(y_test, y_pred)\n",
    "rmse = mean_squared_error(y_test, y_pred, squared=False)\n",
    "r2 = r2_score(y_test, y_pred)\n",
    "print(f\"MAE: {mae:.2f}\")\n",
    "print(f\"MSE: {mse:.2f}\")\n",
    "print(f\"RMSE: {rmse:.2f}\")\n",
    "print(f\"R2 score: {r2:.2f}\")\n",
    "\n",
    "\n",
    "\n",
    "# Make a sample prediction\n",
    "sample = {'Gender': 2, 'ProductBrand': 214}\n",
    "predicted_price = model.predict(pd.DataFrame([sample]))[0]\n",
    "print(f\"Predicted price: {predicted_price:.2f}\")  # Original price 69.72\n"
   ]
  },
  {
   "attachments": {},
   "cell_type": "markdown",
   "metadata": {},
   "source": [
    "Here! In Machine learning model, MAE (Mean Absolute Error) = 6.37: This is the average absolute difference between the predicted and actual values. \n",
    "                                 MSE (Mean Squared Error) = 251.71: This is the average squared difference between the predicted and actual values.\n",
    "                                 RMSE (Root Mean Squared Error) = 15.87: This is the square root of the MSE. It measures the standard deviation of the errors in the predictions. \n",
    "                                 R2 score = 0.67: This is a measure of how well the model fits the data.In my case, the R2 score is 0.67, which indicates that the model explains 67% of the variance in the target variable. "
   ]
  },
  {
   "attachments": {},
   "cell_type": "markdown",
   "metadata": {},
   "source": [
    "Overall, this model has an average MAE, a relatively high MSE and RMSE, and a moderate R2 score. This suggests that the model is making some errors in its predictions, but it is still able to explain a significant proportion of the variance in the target variable. it not and amazing model but it kind a moderate."
   ]
  },
  {
   "cell_type": "code",
   "execution_count": 21,
   "metadata": {},
   "outputs": [
    {
     "data": {
      "image/png": "[encoded data removed]",
      "text/plain": [
       "<Figure size 640x480 with 1 Axes>"
      ]
     },
     "metadata": {},
     "output_type": "display_data"
    }
   ],
   "source": [
    "import matplotlib.pyplot as plt\n",
    "\n",
    "# Plot predicted prices versus actual prices\n",
    "fig, ax = plt.subplots()\n",
    "ax.scatter(y_test, y_pred, alpha=0.5)\n",
    "ax.plot([y_test.min(), y_test.max()], [y_test.min(), y_test.max()], 'k--', lw=3)\n",
    "ax.set_xlabel('Actual Price')\n",
    "ax.set_ylabel('Predicted Price')\n",
    "ax.set_title('Actual vs. Predicted Prices')\n",
    "plt.show()\n",
    "\n"
   ]
  },
  {
   "attachments": {},
   "cell_type": "markdown",
   "metadata": {},
   "source": [
    "Lastly, I would Like to say If I could scrape more data from amazon, I might able to do better analysis, My amazon scrape data is relatively small compare to kaggle data set. which dominant amazon data, and the Overall Analysis is kind a dependant on kaggle data set. I'm trying to scrape more data from amazon in future and will try for an improvement"
   ]
  }
 ],
 "metadata": {
  "kernelspec": {
   "display_name": "Python 3",
   "language": "python",
   "name": "python3"
  },
  "language_info": {
   "codemirror_mode": {
    "name": "ipython",
    "version": 3
   },
   "file_extension": ".py",
   "mimetype": "text/x-python",
   "name": "python",
   "nbconvert_exporter": "python",
   "pygments_lexer": "ipython3",
   "version": "3.10.7"
  },
  "orig_nbformat": 4
 },
 "nbformat": 4,
 "nbformat_minor": 2
}
